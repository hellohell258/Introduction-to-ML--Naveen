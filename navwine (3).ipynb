{
  "nbformat": 4,
  "nbformat_minor": 0,
  "metadata": {
    "colab": {
      "name": "navwine.ipynb",
      "provenance": [],
      "collapsed_sections": [],
      "toc_visible": true
    },
    "kernelspec": {
      "name": "python3",
      "display_name": "Python 3"
    }
  },
  "cells": [
    {
      "cell_type": "markdown",
      "metadata": {
        "id": "kS6jZvYsi53P",
        "colab_type": "text"
      },
      "source": [
        "#Data Preprocessing"
      ]
    },
    {
      "cell_type": "code",
      "metadata": {
        "id": "zyKFg1yi9Xe-",
        "colab_type": "code",
        "colab": {}
      },
      "source": [
        "import pandas as pd\n",
        "import numpy as np\n",
        "import matplotlib.pyplot as plt"
      ],
      "execution_count": 7,
      "outputs": []
    },
    {
      "cell_type": "code",
      "metadata": {
        "id": "lHMVuRzXFXpN",
        "colab_type": "code",
        "colab": {}
      },
      "source": [
        "data = pd.read_csv('/content/datasets_4458_8204_winequality-red.csv')"
      ],
      "execution_count": 8,
      "outputs": []
    },
    {
      "cell_type": "code",
      "metadata": {
        "id": "YjArkvNWFdQ9",
        "colab_type": "code",
        "colab": {
          "base_uri": "https://localhost:8080/",
          "height": 473
        },
        "outputId": "90d398d2-1ef3-4b98-9f1a-a72684550aa0"
      },
      "source": [
        "data"
      ],
      "execution_count": 9,
      "outputs": [
        {
          "output_type": "execute_result",
          "data": {
            "text/html": [
              "<div>\n",
              "<style scoped>\n",
              "    .dataframe tbody tr th:only-of-type {\n",
              "        vertical-align: middle;\n",
              "    }\n",
              "\n",
              "    .dataframe tbody tr th {\n",
              "        vertical-align: top;\n",
              "    }\n",
              "\n",
              "    .dataframe thead th {\n",
              "        text-align: right;\n",
              "    }\n",
              "</style>\n",
              "<table border=\"1\" class=\"dataframe\">\n",
              "  <thead>\n",
              "    <tr style=\"text-align: right;\">\n",
              "      <th></th>\n",
              "      <th>fixed acidity</th>\n",
              "      <th>volatile acidity</th>\n",
              "      <th>citric acid</th>\n",
              "      <th>residual sugar</th>\n",
              "      <th>chlorides</th>\n",
              "      <th>free sulfur dioxide</th>\n",
              "      <th>total sulfur dioxide</th>\n",
              "      <th>density</th>\n",
              "      <th>pH</th>\n",
              "      <th>sulphates</th>\n",
              "      <th>alcohol</th>\n",
              "      <th>quality</th>\n",
              "    </tr>\n",
              "  </thead>\n",
              "  <tbody>\n",
              "    <tr>\n",
              "      <th>0</th>\n",
              "      <td>7.4</td>\n",
              "      <td>0.700</td>\n",
              "      <td>0.00</td>\n",
              "      <td>1.9</td>\n",
              "      <td>0.076</td>\n",
              "      <td>11.0</td>\n",
              "      <td>34.0</td>\n",
              "      <td>0.99780</td>\n",
              "      <td>3.51</td>\n",
              "      <td>0.56</td>\n",
              "      <td>9.4</td>\n",
              "      <td>5</td>\n",
              "    </tr>\n",
              "    <tr>\n",
              "      <th>1</th>\n",
              "      <td>7.8</td>\n",
              "      <td>0.880</td>\n",
              "      <td>0.00</td>\n",
              "      <td>2.6</td>\n",
              "      <td>0.098</td>\n",
              "      <td>25.0</td>\n",
              "      <td>67.0</td>\n",
              "      <td>0.99680</td>\n",
              "      <td>3.20</td>\n",
              "      <td>0.68</td>\n",
              "      <td>9.8</td>\n",
              "      <td>5</td>\n",
              "    </tr>\n",
              "    <tr>\n",
              "      <th>2</th>\n",
              "      <td>7.8</td>\n",
              "      <td>0.760</td>\n",
              "      <td>0.04</td>\n",
              "      <td>2.3</td>\n",
              "      <td>0.092</td>\n",
              "      <td>15.0</td>\n",
              "      <td>54.0</td>\n",
              "      <td>0.99700</td>\n",
              "      <td>3.26</td>\n",
              "      <td>0.65</td>\n",
              "      <td>9.8</td>\n",
              "      <td>5</td>\n",
              "    </tr>\n",
              "    <tr>\n",
              "      <th>3</th>\n",
              "      <td>11.2</td>\n",
              "      <td>0.280</td>\n",
              "      <td>0.56</td>\n",
              "      <td>1.9</td>\n",
              "      <td>0.075</td>\n",
              "      <td>17.0</td>\n",
              "      <td>60.0</td>\n",
              "      <td>0.99800</td>\n",
              "      <td>3.16</td>\n",
              "      <td>0.58</td>\n",
              "      <td>9.8</td>\n",
              "      <td>6</td>\n",
              "    </tr>\n",
              "    <tr>\n",
              "      <th>4</th>\n",
              "      <td>7.4</td>\n",
              "      <td>0.700</td>\n",
              "      <td>0.00</td>\n",
              "      <td>1.9</td>\n",
              "      <td>0.076</td>\n",
              "      <td>11.0</td>\n",
              "      <td>34.0</td>\n",
              "      <td>0.99780</td>\n",
              "      <td>3.51</td>\n",
              "      <td>0.56</td>\n",
              "      <td>9.4</td>\n",
              "      <td>5</td>\n",
              "    </tr>\n",
              "    <tr>\n",
              "      <th>...</th>\n",
              "      <td>...</td>\n",
              "      <td>...</td>\n",
              "      <td>...</td>\n",
              "      <td>...</td>\n",
              "      <td>...</td>\n",
              "      <td>...</td>\n",
              "      <td>...</td>\n",
              "      <td>...</td>\n",
              "      <td>...</td>\n",
              "      <td>...</td>\n",
              "      <td>...</td>\n",
              "      <td>...</td>\n",
              "    </tr>\n",
              "    <tr>\n",
              "      <th>1594</th>\n",
              "      <td>6.2</td>\n",
              "      <td>0.600</td>\n",
              "      <td>0.08</td>\n",
              "      <td>2.0</td>\n",
              "      <td>0.090</td>\n",
              "      <td>32.0</td>\n",
              "      <td>44.0</td>\n",
              "      <td>0.99490</td>\n",
              "      <td>3.45</td>\n",
              "      <td>0.58</td>\n",
              "      <td>10.5</td>\n",
              "      <td>5</td>\n",
              "    </tr>\n",
              "    <tr>\n",
              "      <th>1595</th>\n",
              "      <td>5.9</td>\n",
              "      <td>0.550</td>\n",
              "      <td>0.10</td>\n",
              "      <td>2.2</td>\n",
              "      <td>0.062</td>\n",
              "      <td>39.0</td>\n",
              "      <td>51.0</td>\n",
              "      <td>0.99512</td>\n",
              "      <td>3.52</td>\n",
              "      <td>0.76</td>\n",
              "      <td>11.2</td>\n",
              "      <td>6</td>\n",
              "    </tr>\n",
              "    <tr>\n",
              "      <th>1596</th>\n",
              "      <td>6.3</td>\n",
              "      <td>0.510</td>\n",
              "      <td>0.13</td>\n",
              "      <td>2.3</td>\n",
              "      <td>0.076</td>\n",
              "      <td>29.0</td>\n",
              "      <td>40.0</td>\n",
              "      <td>0.99574</td>\n",
              "      <td>3.42</td>\n",
              "      <td>0.75</td>\n",
              "      <td>11.0</td>\n",
              "      <td>6</td>\n",
              "    </tr>\n",
              "    <tr>\n",
              "      <th>1597</th>\n",
              "      <td>5.9</td>\n",
              "      <td>0.645</td>\n",
              "      <td>0.12</td>\n",
              "      <td>2.0</td>\n",
              "      <td>0.075</td>\n",
              "      <td>32.0</td>\n",
              "      <td>44.0</td>\n",
              "      <td>0.99547</td>\n",
              "      <td>3.57</td>\n",
              "      <td>0.71</td>\n",
              "      <td>10.2</td>\n",
              "      <td>5</td>\n",
              "    </tr>\n",
              "    <tr>\n",
              "      <th>1598</th>\n",
              "      <td>6.0</td>\n",
              "      <td>0.310</td>\n",
              "      <td>0.47</td>\n",
              "      <td>3.6</td>\n",
              "      <td>0.067</td>\n",
              "      <td>18.0</td>\n",
              "      <td>42.0</td>\n",
              "      <td>0.99549</td>\n",
              "      <td>3.39</td>\n",
              "      <td>0.66</td>\n",
              "      <td>11.0</td>\n",
              "      <td>6</td>\n",
              "    </tr>\n",
              "  </tbody>\n",
              "</table>\n",
              "<p>1599 rows × 12 columns</p>\n",
              "</div>"
            ],
            "text/plain": [
              "      fixed acidity  volatile acidity  citric acid  ...  sulphates  alcohol  quality\n",
              "0               7.4             0.700         0.00  ...       0.56      9.4        5\n",
              "1               7.8             0.880         0.00  ...       0.68      9.8        5\n",
              "2               7.8             0.760         0.04  ...       0.65      9.8        5\n",
              "3              11.2             0.280         0.56  ...       0.58      9.8        6\n",
              "4               7.4             0.700         0.00  ...       0.56      9.4        5\n",
              "...             ...               ...          ...  ...        ...      ...      ...\n",
              "1594            6.2             0.600         0.08  ...       0.58     10.5        5\n",
              "1595            5.9             0.550         0.10  ...       0.76     11.2        6\n",
              "1596            6.3             0.510         0.13  ...       0.75     11.0        6\n",
              "1597            5.9             0.645         0.12  ...       0.71     10.2        5\n",
              "1598            6.0             0.310         0.47  ...       0.66     11.0        6\n",
              "\n",
              "[1599 rows x 12 columns]"
            ]
          },
          "metadata": {
            "tags": []
          },
          "execution_count": 9
        }
      ]
    },
    {
      "cell_type": "code",
      "metadata": {
        "id": "0Yo_KO5hFeF6",
        "colab_type": "code",
        "colab": {
          "base_uri": "https://localhost:8080/",
          "height": 340
        },
        "outputId": "c16d7d75-5b87-4d30-da80-18c15d363898"
      },
      "source": [
        "data.info()"
      ],
      "execution_count": null,
      "outputs": [
        {
          "output_type": "stream",
          "text": [
            "<class 'pandas.core.frame.DataFrame'>\n",
            "RangeIndex: 1599 entries, 0 to 1598\n",
            "Data columns (total 12 columns):\n",
            " #   Column                Non-Null Count  Dtype  \n",
            "---  ------                --------------  -----  \n",
            " 0   fixed acidity         1599 non-null   float64\n",
            " 1   volatile acidity      1599 non-null   float64\n",
            " 2   citric acid           1599 non-null   float64\n",
            " 3   residual sugar        1599 non-null   float64\n",
            " 4   chlorides             1599 non-null   float64\n",
            " 5   free sulfur dioxide   1599 non-null   float64\n",
            " 6   total sulfur dioxide  1599 non-null   float64\n",
            " 7   density               1599 non-null   float64\n",
            " 8   pH                    1599 non-null   float64\n",
            " 9   sulphates             1599 non-null   float64\n",
            " 10  alcohol               1599 non-null   float64\n",
            " 11  quality               1599 non-null   int64  \n",
            "dtypes: float64(11), int64(1)\n",
            "memory usage: 150.0 KB\n"
          ],
          "name": "stdout"
        }
      ]
    },
    {
      "cell_type": "code",
      "metadata": {
        "id": "VR4TRYJWIuzq",
        "colab_type": "code",
        "colab": {
          "base_uri": "https://localhost:8080/",
          "height": 351
        },
        "outputId": "eab5bb64-5a40-488d-d7c4-21572fb6861d"
      },
      "source": [
        "data.describe()"
      ],
      "execution_count": null,
      "outputs": [
        {
          "output_type": "execute_result",
          "data": {
            "text/html": [
              "<div>\n",
              "<style scoped>\n",
              "    .dataframe tbody tr th:only-of-type {\n",
              "        vertical-align: middle;\n",
              "    }\n",
              "\n",
              "    .dataframe tbody tr th {\n",
              "        vertical-align: top;\n",
              "    }\n",
              "\n",
              "    .dataframe thead th {\n",
              "        text-align: right;\n",
              "    }\n",
              "</style>\n",
              "<table border=\"1\" class=\"dataframe\">\n",
              "  <thead>\n",
              "    <tr style=\"text-align: right;\">\n",
              "      <th></th>\n",
              "      <th>fixed acidity</th>\n",
              "      <th>volatile acidity</th>\n",
              "      <th>citric acid</th>\n",
              "      <th>residual sugar</th>\n",
              "      <th>chlorides</th>\n",
              "      <th>free sulfur dioxide</th>\n",
              "      <th>total sulfur dioxide</th>\n",
              "      <th>density</th>\n",
              "      <th>pH</th>\n",
              "      <th>sulphates</th>\n",
              "      <th>alcohol</th>\n",
              "      <th>quality</th>\n",
              "    </tr>\n",
              "  </thead>\n",
              "  <tbody>\n",
              "    <tr>\n",
              "      <th>count</th>\n",
              "      <td>1599.000000</td>\n",
              "      <td>1599.000000</td>\n",
              "      <td>1599.000000</td>\n",
              "      <td>1599.000000</td>\n",
              "      <td>1599.000000</td>\n",
              "      <td>1599.000000</td>\n",
              "      <td>1599.000000</td>\n",
              "      <td>1599.000000</td>\n",
              "      <td>1599.000000</td>\n",
              "      <td>1599.000000</td>\n",
              "      <td>1599.000000</td>\n",
              "      <td>1599.000000</td>\n",
              "    </tr>\n",
              "    <tr>\n",
              "      <th>mean</th>\n",
              "      <td>8.319637</td>\n",
              "      <td>0.527821</td>\n",
              "      <td>0.270976</td>\n",
              "      <td>2.538806</td>\n",
              "      <td>0.087467</td>\n",
              "      <td>15.874922</td>\n",
              "      <td>46.467792</td>\n",
              "      <td>0.996747</td>\n",
              "      <td>3.311113</td>\n",
              "      <td>0.658149</td>\n",
              "      <td>10.422983</td>\n",
              "      <td>5.636023</td>\n",
              "    </tr>\n",
              "    <tr>\n",
              "      <th>std</th>\n",
              "      <td>1.741096</td>\n",
              "      <td>0.179060</td>\n",
              "      <td>0.194801</td>\n",
              "      <td>1.409928</td>\n",
              "      <td>0.047065</td>\n",
              "      <td>10.460157</td>\n",
              "      <td>32.895324</td>\n",
              "      <td>0.001887</td>\n",
              "      <td>0.154386</td>\n",
              "      <td>0.169507</td>\n",
              "      <td>1.065668</td>\n",
              "      <td>0.807569</td>\n",
              "    </tr>\n",
              "    <tr>\n",
              "      <th>min</th>\n",
              "      <td>4.600000</td>\n",
              "      <td>0.120000</td>\n",
              "      <td>0.000000</td>\n",
              "      <td>0.900000</td>\n",
              "      <td>0.012000</td>\n",
              "      <td>1.000000</td>\n",
              "      <td>6.000000</td>\n",
              "      <td>0.990070</td>\n",
              "      <td>2.740000</td>\n",
              "      <td>0.330000</td>\n",
              "      <td>8.400000</td>\n",
              "      <td>3.000000</td>\n",
              "    </tr>\n",
              "    <tr>\n",
              "      <th>25%</th>\n",
              "      <td>7.100000</td>\n",
              "      <td>0.390000</td>\n",
              "      <td>0.090000</td>\n",
              "      <td>1.900000</td>\n",
              "      <td>0.070000</td>\n",
              "      <td>7.000000</td>\n",
              "      <td>22.000000</td>\n",
              "      <td>0.995600</td>\n",
              "      <td>3.210000</td>\n",
              "      <td>0.550000</td>\n",
              "      <td>9.500000</td>\n",
              "      <td>5.000000</td>\n",
              "    </tr>\n",
              "    <tr>\n",
              "      <th>50%</th>\n",
              "      <td>7.900000</td>\n",
              "      <td>0.520000</td>\n",
              "      <td>0.260000</td>\n",
              "      <td>2.200000</td>\n",
              "      <td>0.079000</td>\n",
              "      <td>14.000000</td>\n",
              "      <td>38.000000</td>\n",
              "      <td>0.996750</td>\n",
              "      <td>3.310000</td>\n",
              "      <td>0.620000</td>\n",
              "      <td>10.200000</td>\n",
              "      <td>6.000000</td>\n",
              "    </tr>\n",
              "    <tr>\n",
              "      <th>75%</th>\n",
              "      <td>9.200000</td>\n",
              "      <td>0.640000</td>\n",
              "      <td>0.420000</td>\n",
              "      <td>2.600000</td>\n",
              "      <td>0.090000</td>\n",
              "      <td>21.000000</td>\n",
              "      <td>62.000000</td>\n",
              "      <td>0.997835</td>\n",
              "      <td>3.400000</td>\n",
              "      <td>0.730000</td>\n",
              "      <td>11.100000</td>\n",
              "      <td>6.000000</td>\n",
              "    </tr>\n",
              "    <tr>\n",
              "      <th>max</th>\n",
              "      <td>15.900000</td>\n",
              "      <td>1.580000</td>\n",
              "      <td>1.000000</td>\n",
              "      <td>15.500000</td>\n",
              "      <td>0.611000</td>\n",
              "      <td>72.000000</td>\n",
              "      <td>289.000000</td>\n",
              "      <td>1.003690</td>\n",
              "      <td>4.010000</td>\n",
              "      <td>2.000000</td>\n",
              "      <td>14.900000</td>\n",
              "      <td>8.000000</td>\n",
              "    </tr>\n",
              "  </tbody>\n",
              "</table>\n",
              "</div>"
            ],
            "text/plain": [
              "       fixed acidity  volatile acidity  ...      alcohol      quality\n",
              "count    1599.000000       1599.000000  ...  1599.000000  1599.000000\n",
              "mean        8.319637          0.527821  ...    10.422983     5.636023\n",
              "std         1.741096          0.179060  ...     1.065668     0.807569\n",
              "min         4.600000          0.120000  ...     8.400000     3.000000\n",
              "25%         7.100000          0.390000  ...     9.500000     5.000000\n",
              "50%         7.900000          0.520000  ...    10.200000     6.000000\n",
              "75%         9.200000          0.640000  ...    11.100000     6.000000\n",
              "max        15.900000          1.580000  ...    14.900000     8.000000\n",
              "\n",
              "[8 rows x 12 columns]"
            ]
          },
          "metadata": {
            "tags": []
          },
          "execution_count": 46
        }
      ]
    },
    {
      "cell_type": "code",
      "metadata": {
        "id": "ou9kjUheIoJK",
        "colab_type": "code",
        "colab": {
          "base_uri": "https://localhost:8080/",
          "height": 34
        },
        "outputId": "ecf8922e-64fa-4310-9797-f9c6641eae5a"
      },
      "source": [
        "data['quality'].unique()"
      ],
      "execution_count": null,
      "outputs": [
        {
          "output_type": "execute_result",
          "data": {
            "text/plain": [
              "array([5, 6, 7, 4, 8, 3])"
            ]
          },
          "metadata": {
            "tags": []
          },
          "execution_count": 47
        }
      ]
    },
    {
      "cell_type": "code",
      "metadata": {
        "id": "QpYKTxOFMOtr",
        "colab_type": "code",
        "colab": {
          "base_uri": "https://localhost:8080/",
          "height": 238
        },
        "outputId": "7c096d2d-3159-45e6-b2f6-ea73dc8a761d"
      },
      "source": [
        "data.corr()['quality'].sort_values(ascending=False)"
      ],
      "execution_count": null,
      "outputs": [
        {
          "output_type": "execute_result",
          "data": {
            "text/plain": [
              "quality                 1.000000\n",
              "alcohol                 0.476166\n",
              "sulphates               0.251397\n",
              "citric acid             0.226373\n",
              "fixed acidity           0.124052\n",
              "residual sugar          0.013732\n",
              "free sulfur dioxide    -0.050656\n",
              "pH                     -0.057731\n",
              "chlorides              -0.128907\n",
              "density                -0.174919\n",
              "total sulfur dioxide   -0.185100\n",
              "volatile acidity       -0.390558\n",
              "Name: quality, dtype: float64"
            ]
          },
          "metadata": {
            "tags": []
          },
          "execution_count": 48
        }
      ]
    },
    {
      "cell_type": "code",
      "metadata": {
        "id": "xFojIOPKMr3k",
        "colab_type": "code",
        "colab": {
          "base_uri": "https://localhost:8080/",
          "height": 296
        },
        "outputId": "9f862900-8cdd-4451-eb5b-61c9875c30a3"
      },
      "source": [
        "plt.plot(data['quality'], data['alcohol'], 'r+')\n",
        "plt.xlabel('quality')\n",
        "plt.ylabel('alcohol')"
      ],
      "execution_count": 10,
      "outputs": [
        {
          "output_type": "execute_result",
          "data": {
            "text/plain": [
              "Text(0, 0.5, 'alcohol')"
            ]
          },
          "metadata": {
            "tags": []
          },
          "execution_count": 10
        },
        {
          "output_type": "display_data",
          "data": {
            "image/png": "[encoded data removed]",
            "text/plain": [
              "<Figure size 432x288 with 1 Axes>"
            ]
          },
          "metadata": {
            "tags": [],
            "needs_background": "light"
          }
        }
      ]
    },
    {
      "cell_type": "markdown",
      "metadata": {
        "id": "EgNxi95ijMy3",
        "colab_type": "text"
      },
      "source": [
        "#Separate Features and Target\n",
        "\n",
        "* Here lets considering 'quality' as target\n",
        "*  and rest of the columns as features"
      ]
    },
    {
      "cell_type": "code",
      "metadata": {
        "id": "7AQ9V-OpItXp",
        "colab_type": "code",
        "colab": {}
      },
      "source": [
        "x = data.iloc[:,:-1].values\n",
        "y = data.iloc[:, -1].values"
      ],
      "execution_count": 14,
      "outputs": []
    },
    {
      "cell_type": "code",
      "metadata": {
        "id": "5Txnh7pC0A3A",
        "colab_type": "code",
        "colab": {
          "base_uri": "https://localhost:8080/",
          "height": 136
        },
        "outputId": "87882732-df1c-4103-dd1f-4c7ec5d55bb0"
      },
      "source": [
        "x"
      ],
      "execution_count": 15,
      "outputs": [
        {
          "output_type": "execute_result",
          "data": {
            "text/plain": [
              "array([[ 7.4  ,  0.7  ,  0.   , ...,  3.51 ,  0.56 ,  9.4  ],\n",
              "       [ 7.8  ,  0.88 ,  0.   , ...,  3.2  ,  0.68 ,  9.8  ],\n",
              "       [ 7.8  ,  0.76 ,  0.04 , ...,  3.26 ,  0.65 ,  9.8  ],\n",
              "       ...,\n",
              "       [ 6.3  ,  0.51 ,  0.13 , ...,  3.42 ,  0.75 , 11.   ],\n",
              "       [ 5.9  ,  0.645,  0.12 , ...,  3.57 ,  0.71 , 10.2  ],\n",
              "       [ 6.   ,  0.31 ,  0.47 , ...,  3.39 ,  0.66 , 11.   ]])"
            ]
          },
          "metadata": {
            "tags": []
          },
          "execution_count": 15
        }
      ]
    },
    {
      "cell_type": "code",
      "metadata": {
        "id": "AHvBJhU00G6C",
        "colab_type": "code",
        "colab": {
          "base_uri": "https://localhost:8080/",
          "height": 34
        },
        "outputId": "0b8e40b7-9f1a-4379-d455-dc97021624d8"
      },
      "source": [
        "y"
      ],
      "execution_count": 16,
      "outputs": [
        {
          "output_type": "execute_result",
          "data": {
            "text/plain": [
              "array([5, 5, 5, ..., 6, 5, 6])"
            ]
          },
          "metadata": {
            "tags": []
          },
          "execution_count": 16
        }
      ]
    },
    {
      "cell_type": "markdown",
      "metadata": {
        "id": "I0WmnXR-7XtD",
        "colab_type": "text"
      },
      "source": [
        "#Splitting Data into Train and Test sets"
      ]
    },
    {
      "cell_type": "code",
      "metadata": {
        "id": "p5bqvBH45wum",
        "colab_type": "code",
        "colab": {}
      },
      "source": [
        "from sklearn.model_selection import train_test_split"
      ],
      "execution_count": 17,
      "outputs": []
    },
    {
      "cell_type": "code",
      "metadata": {
        "id": "NPr4dGN-5_wj",
        "colab_type": "code",
        "colab": {}
      },
      "source": [
        "x_train, x_test, y_train, y_test = train_test_split(x, y, test_size=0.2)"
      ],
      "execution_count": 18,
      "outputs": []
    },
    {
      "cell_type": "code",
      "metadata": {
        "id": "3n658gb8wkMh",
        "colab_type": "code",
        "colab": {
          "base_uri": "https://localhost:8080/",
          "height": 136
        },
        "outputId": "e7d3b3b0-f836-447c-d9b2-a7107c7384c6"
      },
      "source": [
        "x_train"
      ],
      "execution_count": 19,
      "outputs": [
        {
          "output_type": "execute_result",
          "data": {
            "text/plain": [
              "array([[10.2  ,  0.67 ,  0.39 , ...,  3.17 ,  0.47 , 10.   ],\n",
              "       [ 7.6  ,  0.735,  0.02 , ...,  3.51 ,  0.71 , 11.7  ],\n",
              "       [ 9.1  ,  0.68 ,  0.11 , ...,  3.31 ,  0.55 ,  9.5  ],\n",
              "       ...,\n",
              "       [ 7.7  ,  0.915,  0.12 , ...,  3.35 ,  0.65 , 10.2  ],\n",
              "       [ 9.6  ,  0.6  ,  0.5  , ...,  3.5  ,  0.57 ,  9.7  ],\n",
              "       [ 8.4  ,  0.745,  0.11 , ...,  3.19 ,  0.82 ,  9.6  ]])"
            ]
          },
          "metadata": {
            "tags": []
          },
          "execution_count": 19
        }
      ]
    },
    {
      "cell_type": "code",
      "metadata": {
        "id": "4vXalqle1mk6",
        "colab_type": "code",
        "colab": {
          "base_uri": "https://localhost:8080/",
          "height": 34
        },
        "outputId": "cfd2b05a-794b-4e10-e5f5-92e5dbc6e94a"
      },
      "source": [
        "y_train"
      ],
      "execution_count": null,
      "outputs": [
        {
          "output_type": "execute_result",
          "data": {
            "text/plain": [
              "array([5, 4, 5, ..., 5, 6, 5])"
            ]
          },
          "metadata": {
            "tags": []
          },
          "execution_count": 55
        }
      ]
    },
    {
      "cell_type": "code",
      "metadata": {
        "id": "LU_bMfFc14-t",
        "colab_type": "code",
        "colab": {
          "base_uri": "https://localhost:8080/",
          "height": 272
        },
        "outputId": "4c14548f-8130-4bf1-d277-02c52021bb71"
      },
      "source": [
        "y_test"
      ],
      "execution_count": null,
      "outputs": [
        {
          "output_type": "execute_result",
          "data": {
            "text/plain": [
              "array([6, 5, 6, 6, 5, 6, 5, 5, 6, 6, 7, 6, 6, 5, 5, 4, 6, 6, 6, 5, 6, 5,\n",
              "       6, 6, 5, 5, 6, 6, 6, 6, 5, 6, 5, 5, 8, 6, 5, 7, 5, 6, 6, 6, 5, 6,\n",
              "       5, 7, 7, 5, 5, 5, 5, 4, 5, 5, 5, 8, 6, 6, 5, 6, 5, 6, 5, 5, 5, 5,\n",
              "       5, 6, 5, 5, 6, 6, 5, 5, 5, 7, 6, 6, 5, 6, 6, 5, 8, 4, 5, 7, 5, 5,\n",
              "       6, 7, 6, 6, 7, 6, 6, 5, 5, 5, 5, 7, 6, 6, 7, 6, 6, 5, 3, 6, 7, 3,\n",
              "       5, 6, 6, 5, 5, 5, 5, 5, 5, 5, 6, 7, 5, 5, 5, 5, 6, 6, 6, 5, 5, 5,\n",
              "       6, 5, 5, 5, 5, 6, 5, 6, 4, 6, 5, 6, 6, 6, 6, 6, 7, 6, 7, 6, 6, 6,\n",
              "       6, 5, 6, 7, 6, 7, 4, 7, 6, 5, 6, 6, 5, 5, 5, 7, 6, 6, 5, 6, 5, 5,\n",
              "       6, 3, 4, 5, 5, 6, 7, 6, 6, 5, 4, 5, 5, 4, 7, 5, 5, 5, 5, 6, 6, 6,\n",
              "       5, 5, 6, 5, 5, 4, 5, 5, 6, 5, 6, 6, 5, 6, 6, 5, 5, 6, 6, 5, 7, 5,\n",
              "       5, 6, 5, 5, 5, 5, 6, 6, 7, 7, 6, 7, 7, 6, 5, 6, 6, 8, 5, 5, 7, 6,\n",
              "       5, 8, 7, 6, 6, 6, 6, 6, 6, 5, 5, 4, 6, 6, 5, 7, 7, 6, 5, 6, 6, 6,\n",
              "       5, 5, 5, 5, 5, 6, 5, 6, 7, 5, 7, 5, 5, 6, 5, 6, 6, 5, 4, 6, 6, 5,\n",
              "       5, 5, 7, 5, 5, 5, 6, 5, 7, 5, 5, 6, 6, 6, 7, 6, 5, 6, 5, 6, 5, 6,\n",
              "       5, 7, 5, 6, 5, 6, 6, 6, 7, 5, 5, 6])"
            ]
          },
          "metadata": {
            "tags": []
          },
          "execution_count": 56
        }
      ]
    },
    {
      "cell_type": "code",
      "metadata": {
        "id": "_pxVbV5x2Ffh",
        "colab_type": "code",
        "colab": {
          "base_uri": "https://localhost:8080/",
          "height": 136
        },
        "outputId": "74a67cc5-371a-4ba0-c5ba-e2b84650c241"
      },
      "source": [
        "x_train"
      ],
      "execution_count": null,
      "outputs": [
        {
          "output_type": "execute_result",
          "data": {
            "text/plain": [
              "array([[1.13e+01, 3.70e-01, 5.00e-01, ..., 3.15e+00, 5.70e-01, 1.05e+01],\n",
              "       [6.50e+00, 5.80e-01, 0.00e+00, ..., 3.62e+00, 6.20e-01, 1.15e+01],\n",
              "       [1.35e+01, 5.30e-01, 7.90e-01, ..., 3.18e+00, 7.70e-01, 1.30e+01],\n",
              "       ...,\n",
              "       [6.90e+00, 5.80e-01, 1.00e-02, ..., 3.40e+00, 7.30e-01, 9.70e+00],\n",
              "       [7.80e+00, 5.20e-01, 2.50e-01, ..., 3.43e+00, 6.50e-01, 9.00e+00],\n",
              "       [8.80e+00, 4.10e-01, 6.40e-01, ..., 3.54e+00, 6.60e-01, 1.05e+01]])"
            ]
          },
          "metadata": {
            "tags": []
          },
          "execution_count": 57
        }
      ]
    },
    {
      "cell_type": "markdown",
      "metadata": {
        "id": "PA8q90Dn7efx",
        "colab_type": "text"
      },
      "source": [
        "#Standardization"
      ]
    },
    {
      "cell_type": "code",
      "metadata": {
        "id": "3f6bm1bf6Iz_",
        "colab_type": "code",
        "colab": {}
      },
      "source": [
        "from sklearn.preprocessing import StandardScaler"
      ],
      "execution_count": null,
      "outputs": []
    },
    {
      "cell_type": "code",
      "metadata": {
        "id": "0iv7wDcH8BmP",
        "colab_type": "code",
        "colab": {}
      },
      "source": [
        "ntrain = y_train.reshape(len(y_train), 1)\n",
        "ntest = y_test.reshape(len(y_test), 1)"
      ],
      "execution_count": null,
      "outputs": []
    },
    {
      "cell_type": "code",
      "metadata": {
        "id": "pf2moM0X2rGh",
        "colab_type": "code",
        "colab": {
          "base_uri": "https://localhost:8080/",
          "height": 136
        },
        "outputId": "0eb068de-2652-4b4a-b1e6-fc7669a13ac2"
      },
      "source": [
        "ntrain"
      ],
      "execution_count": null,
      "outputs": [
        {
          "output_type": "execute_result",
          "data": {
            "text/plain": [
              "array([[5],\n",
              "       [4],\n",
              "       [5],\n",
              "       ...,\n",
              "       [5],\n",
              "       [6],\n",
              "       [5]])"
            ]
          },
          "metadata": {
            "tags": []
          },
          "execution_count": 60
        }
      ]
    },
    {
      "cell_type": "code",
      "metadata": {
        "id": "Tk04uXhB21ol",
        "colab_type": "code",
        "colab": {
          "base_uri": "https://localhost:8080/",
          "height": 1000
        },
        "outputId": "4902f462-921b-4481-fcfb-b8d76c589764"
      },
      "source": [
        "\n",
        "ntest"
      ],
      "execution_count": null,
      "outputs": [
        {
          "output_type": "execute_result",
          "data": {
            "text/plain": [
              "array([[6],\n",
              "       [5],\n",
              "       [6],\n",
              "       [6],\n",
              "       [5],\n",
              "       [6],\n",
              "       [5],\n",
              "       [5],\n",
              "       [6],\n",
              "       [6],\n",
              "       [7],\n",
              "       [6],\n",
              "       [6],\n",
              "       [5],\n",
              "       [5],\n",
              "       [4],\n",
              "       [6],\n",
              "       [6],\n",
              "       [6],\n",
              "       [5],\n",
              "       [6],\n",
              "       [5],\n",
              "       [6],\n",
              "       [6],\n",
              "       [5],\n",
              "       [5],\n",
              "       [6],\n",
              "       [6],\n",
              "       [6],\n",
              "       [6],\n",
              "       [5],\n",
              "       [6],\n",
              "       [5],\n",
              "       [5],\n",
              "       [8],\n",
              "       [6],\n",
              "       [5],\n",
              "       [7],\n",
              "       [5],\n",
              "       [6],\n",
              "       [6],\n",
              "       [6],\n",
              "       [5],\n",
              "       [6],\n",
              "       [5],\n",
              "       [7],\n",
              "       [7],\n",
              "       [5],\n",
              "       [5],\n",
              "       [5],\n",
              "       [5],\n",
              "       [4],\n",
              "       [5],\n",
              "       [5],\n",
              "       [5],\n",
              "       [8],\n",
              "       [6],\n",
              "       [6],\n",
              "       [5],\n",
              "       [6],\n",
              "       [5],\n",
              "       [6],\n",
              "       [5],\n",
              "       [5],\n",
              "       [5],\n",
              "       [5],\n",
              "       [5],\n",
              "       [6],\n",
              "       [5],\n",
              "       [5],\n",
              "       [6],\n",
              "       [6],\n",
              "       [5],\n",
              "       [5],\n",
              "       [5],\n",
              "       [7],\n",
              "       [6],\n",
              "       [6],\n",
              "       [5],\n",
              "       [6],\n",
              "       [6],\n",
              "       [5],\n",
              "       [8],\n",
              "       [4],\n",
              "       [5],\n",
              "       [7],\n",
              "       [5],\n",
              "       [5],\n",
              "       [6],\n",
              "       [7],\n",
              "       [6],\n",
              "       [6],\n",
              "       [7],\n",
              "       [6],\n",
              "       [6],\n",
              "       [5],\n",
              "       [5],\n",
              "       [5],\n",
              "       [5],\n",
              "       [7],\n",
              "       [6],\n",
              "       [6],\n",
              "       [7],\n",
              "       [6],\n",
              "       [6],\n",
              "       [5],\n",
              "       [3],\n",
              "       [6],\n",
              "       [7],\n",
              "       [3],\n",
              "       [5],\n",
              "       [6],\n",
              "       [6],\n",
              "       [5],\n",
              "       [5],\n",
              "       [5],\n",
              "       [5],\n",
              "       [5],\n",
              "       [5],\n",
              "       [5],\n",
              "       [6],\n",
              "       [7],\n",
              "       [5],\n",
              "       [5],\n",
              "       [5],\n",
              "       [5],\n",
              "       [6],\n",
              "       [6],\n",
              "       [6],\n",
              "       [5],\n",
              "       [5],\n",
              "       [5],\n",
              "       [6],\n",
              "       [5],\n",
              "       [5],\n",
              "       [5],\n",
              "       [5],\n",
              "       [6],\n",
              "       [5],\n",
              "       [6],\n",
              "       [4],\n",
              "       [6],\n",
              "       [5],\n",
              "       [6],\n",
              "       [6],\n",
              "       [6],\n",
              "       [6],\n",
              "       [6],\n",
              "       [7],\n",
              "       [6],\n",
              "       [7],\n",
              "       [6],\n",
              "       [6],\n",
              "       [6],\n",
              "       [6],\n",
              "       [5],\n",
              "       [6],\n",
              "       [7],\n",
              "       [6],\n",
              "       [7],\n",
              "       [4],\n",
              "       [7],\n",
              "       [6],\n",
              "       [5],\n",
              "       [6],\n",
              "       [6],\n",
              "       [5],\n",
              "       [5],\n",
              "       [5],\n",
              "       [7],\n",
              "       [6],\n",
              "       [6],\n",
              "       [5],\n",
              "       [6],\n",
              "       [5],\n",
              "       [5],\n",
              "       [6],\n",
              "       [3],\n",
              "       [4],\n",
              "       [5],\n",
              "       [5],\n",
              "       [6],\n",
              "       [7],\n",
              "       [6],\n",
              "       [6],\n",
              "       [5],\n",
              "       [4],\n",
              "       [5],\n",
              "       [5],\n",
              "       [4],\n",
              "       [7],\n",
              "       [5],\n",
              "       [5],\n",
              "       [5],\n",
              "       [5],\n",
              "       [6],\n",
              "       [6],\n",
              "       [6],\n",
              "       [5],\n",
              "       [5],\n",
              "       [6],\n",
              "       [5],\n",
              "       [5],\n",
              "       [4],\n",
              "       [5],\n",
              "       [5],\n",
              "       [6],\n",
              "       [5],\n",
              "       [6],\n",
              "       [6],\n",
              "       [5],\n",
              "       [6],\n",
              "       [6],\n",
              "       [5],\n",
              "       [5],\n",
              "       [6],\n",
              "       [6],\n",
              "       [5],\n",
              "       [7],\n",
              "       [5],\n",
              "       [5],\n",
              "       [6],\n",
              "       [5],\n",
              "       [5],\n",
              "       [5],\n",
              "       [5],\n",
              "       [6],\n",
              "       [6],\n",
              "       [7],\n",
              "       [7],\n",
              "       [6],\n",
              "       [7],\n",
              "       [7],\n",
              "       [6],\n",
              "       [5],\n",
              "       [6],\n",
              "       [6],\n",
              "       [8],\n",
              "       [5],\n",
              "       [5],\n",
              "       [7],\n",
              "       [6],\n",
              "       [5],\n",
              "       [8],\n",
              "       [7],\n",
              "       [6],\n",
              "       [6],\n",
              "       [6],\n",
              "       [6],\n",
              "       [6],\n",
              "       [6],\n",
              "       [5],\n",
              "       [5],\n",
              "       [4],\n",
              "       [6],\n",
              "       [6],\n",
              "       [5],\n",
              "       [7],\n",
              "       [7],\n",
              "       [6],\n",
              "       [5],\n",
              "       [6],\n",
              "       [6],\n",
              "       [6],\n",
              "       [5],\n",
              "       [5],\n",
              "       [5],\n",
              "       [5],\n",
              "       [5],\n",
              "       [6],\n",
              "       [5],\n",
              "       [6],\n",
              "       [7],\n",
              "       [5],\n",
              "       [7],\n",
              "       [5],\n",
              "       [5],\n",
              "       [6],\n",
              "       [5],\n",
              "       [6],\n",
              "       [6],\n",
              "       [5],\n",
              "       [4],\n",
              "       [6],\n",
              "       [6],\n",
              "       [5],\n",
              "       [5],\n",
              "       [5],\n",
              "       [7],\n",
              "       [5],\n",
              "       [5],\n",
              "       [5],\n",
              "       [6],\n",
              "       [5],\n",
              "       [7],\n",
              "       [5],\n",
              "       [5],\n",
              "       [6],\n",
              "       [6],\n",
              "       [6],\n",
              "       [7],\n",
              "       [6],\n",
              "       [5],\n",
              "       [6],\n",
              "       [5],\n",
              "       [6],\n",
              "       [5],\n",
              "       [6],\n",
              "       [5],\n",
              "       [7],\n",
              "       [5],\n",
              "       [6],\n",
              "       [5],\n",
              "       [6],\n",
              "       [6],\n",
              "       [6],\n",
              "       [7],\n",
              "       [5],\n",
              "       [5],\n",
              "       [6]])"
            ]
          },
          "metadata": {
            "tags": []
          },
          "execution_count": 61
        }
      ]
    },
    {
      "cell_type": "code",
      "metadata": {
        "id": "JiGIPSBT6NQY",
        "colab_type": "code",
        "colab": {}
      },
      "source": [
        "x_sc = StandardScaler()\n",
        "y_sc = StandardScaler()"
      ],
      "execution_count": null,
      "outputs": []
    },
    {
      "cell_type": "code",
      "metadata": {
        "id": "e8BVHW-O6i03",
        "colab_type": "code",
        "colab": {}
      },
      "source": [
        "xn_train = x_sc.fit_transform(x_train)\n",
        "yn_train = y_sc.fit_transform(ntrain)"
      ],
      "execution_count": null,
      "outputs": []
    },
    {
      "cell_type": "code",
      "metadata": {
        "id": "QQNcU7t6-6Rf",
        "colab_type": "code",
        "colab": {}
      },
      "source": [
        "xn_test = x_sc.transform(x_test)\n",
        "yn_test = y_sc.transform(ntest)"
      ],
      "execution_count": null,
      "outputs": []
    },
    {
      "cell_type": "code",
      "metadata": {
        "id": "8S56SEdG649b",
        "colab_type": "code",
        "colab": {
          "base_uri": "https://localhost:8080/",
          "height": 34
        },
        "outputId": "6fc65664-5780-48bc-a331-2b050147710c"
      },
      "source": [
        "len(xn_train)"
      ],
      "execution_count": null,
      "outputs": [
        {
          "output_type": "execute_result",
          "data": {
            "text/plain": [
              "1279"
            ]
          },
          "metadata": {
            "tags": []
          },
          "execution_count": 65
        }
      ]
    },
    {
      "cell_type": "code",
      "metadata": {
        "id": "Z53e7r5h-fr2",
        "colab_type": "code",
        "colab": {
          "base_uri": "https://localhost:8080/",
          "height": 238
        },
        "outputId": "10112ff3-f26a-479a-996f-358a01951bcc"
      },
      "source": [
        "xn_train"
      ],
      "execution_count": null,
      "outputs": [
        {
          "output_type": "execute_result",
          "data": {
            "text/plain": [
              "array([[ 1.67973650e+00, -8.75488918e-01,  1.14919409e+00, ...,\n",
              "        -1.04280905e+00, -5.19977019e-01,  6.11460755e-02],\n",
              "       [-1.04872979e+00,  3.12215042e-01, -1.40523630e+00, ...,\n",
              "         2.02884817e+00, -2.32424871e-01,  9.95318848e-01],\n",
              "       [ 2.93028355e+00,  2.94283847e-02,  2.63076372e+00, ...,\n",
              "        -8.46745826e-01,  6.30231573e-01,  2.39657801e+00],\n",
              "       ...,\n",
              "       [-8.21357595e-01,  3.12215042e-01, -1.35414769e+00, ...,\n",
              "         5.91051172e-01,  4.00189854e-01, -6.86192142e-01],\n",
              "       [-3.09770166e-01, -2.71289467e-02, -1.28021101e-01, ...,\n",
              "         7.87114399e-01, -5.98935827e-02, -1.34011308e+00],\n",
              "       [ 2.58660311e-01, -6.49259593e-01,  1.86443460e+00, ...,\n",
              "         1.50601290e+00, -2.38315306e-03,  6.11460755e-02]])"
            ]
          },
          "metadata": {
            "tags": []
          },
          "execution_count": 66
        }
      ]
    },
    {
      "cell_type": "code",
      "metadata": {
        "id": "UwUls98Y8gjF",
        "colab_type": "code",
        "colab": {
          "base_uri": "https://localhost:8080/",
          "height": 34
        },
        "outputId": "62937320-04ba-4d09-897d-f4e0149495df"
      },
      "source": [
        "len(xn_test)"
      ],
      "execution_count": null,
      "outputs": [
        {
          "output_type": "execute_result",
          "data": {
            "text/plain": [
              "320"
            ]
          },
          "metadata": {
            "tags": []
          },
          "execution_count": 67
        }
      ]
    },
    {
      "cell_type": "code",
      "metadata": {
        "id": "8Swwt5S6-jO6",
        "colab_type": "code",
        "colab": {
          "base_uri": "https://localhost:8080/",
          "height": 238
        },
        "outputId": "c3a4cd42-fc86-430a-8db1-489ce569f955"
      },
      "source": [
        "xn_test"
      ],
      "execution_count": null,
      "outputs": [
        {
          "output_type": "execute_result",
          "data": {
            "text/plain": [
              "array([[-0.19608407,  1.07573902, -0.28128692, ..., -0.45461937,\n",
              "        -0.69250831, -0.8730267 ],\n",
              "       [ 0.77024774,  0.76467369,  0.33177637, ..., -0.32391055,\n",
              "        -0.00238315, -0.31252303],\n",
              "       [ 0.08813117, -0.3099156 , -0.02584389, ..., -0.97745464,\n",
              "         1.09031501,  0.62164974],\n",
              "       ...,\n",
              "       [ 0.25866031,  0.4253297 ,  0.07633333, ...,  0.32963354,\n",
              "        -0.98006046, -1.24669581],\n",
              "       [ 0.25866031,  0.48188704, -0.68999579, ..., -0.78139142,\n",
              "        -0.40495616, -0.8730267 ],\n",
              "       [-1.67400331,  1.21713235, -0.94543883, ...,  2.35562021,\n",
              "        -0.57748745,  1.08873613]])"
            ]
          },
          "metadata": {
            "tags": []
          },
          "execution_count": 68
        }
      ]
    },
    {
      "cell_type": "code",
      "metadata": {
        "id": "84nLB-zs8xg6",
        "colab_type": "code",
        "colab": {
          "base_uri": "https://localhost:8080/",
          "height": 136
        },
        "outputId": "06a61865-e361-4e64-c17e-c3f72acdcceb"
      },
      "source": [
        "yn_train"
      ],
      "execution_count": null,
      "outputs": [
        {
          "output_type": "execute_result",
          "data": {
            "text/plain": [
              "array([[-0.79751335],\n",
              "       [-2.04295848],\n",
              "       [-0.79751335],\n",
              "       ...,\n",
              "       [-0.79751335],\n",
              "       [ 0.44793179],\n",
              "       [-0.79751335]])"
            ]
          },
          "metadata": {
            "tags": []
          },
          "execution_count": 69
        }
      ]
    },
    {
      "cell_type": "markdown",
      "metadata": {
        "id": "oXp0MBnB7oPE",
        "colab_type": "text"
      },
      "source": [
        "#Train on different algorithms\n",
        "\n",
        "we totally trained on 5 algorithms\n",
        "* RandomForestRegressor class we have used ensemble library\n",
        "* LinearRegression class we have used linear_model library\n",
        "* DecisionTreeRegressor class we have used tree library\n",
        "* SVR class we have used svm library\n",
        "* PolynomialFeatures class we have used preprocessing library"
      ]
    },
    {
      "cell_type": "code",
      "metadata": {
        "id": "k3ppA3BY91l8",
        "colab_type": "code",
        "colab": {}
      },
      "source": [
        "from sklearn.ensemble import RandomForestRegressor\n",
        "from sklearn.linear_model import LinearRegression\n",
        "from sklearn.tree import DecisionTreeRegressor\n",
        "from sklearn.svm import SVR\n",
        "from sklearn.preprocessing import PolynomialFeatures"
      ],
      "execution_count": null,
      "outputs": []
    },
    {
      "cell_type": "code",
      "metadata": {
        "id": "3MlRAgGk-LqC",
        "colab_type": "code",
        "colab": {}
      },
      "source": [
        "r_reg = RandomForestRegressor()\n",
        "l_reg = LinearRegression()\n",
        "d_reg = DecisionTreeRegressor()\n",
        "s_reg = SVR()\n",
        "p_reg = LinearRegression()"
      ],
      "execution_count": null,
      "outputs": []
    },
    {
      "cell_type": "code",
      "metadata": {
        "id": "EIW6RmYjQEJr",
        "colab_type": "code",
        "colab": {}
      },
      "source": [
        "x_pol = PolynomialFeatures(degree=1)\n",
        "x_pol = x_pol.fit_transform(xn_train)"
      ],
      "execution_count": null,
      "outputs": []
    },
    {
      "cell_type": "code",
      "metadata": {
        "id": "jvfL_3nJZSP8",
        "colab_type": "code",
        "colab": {}
      },
      "source": [
        "temp = PolynomialFeatures(degree=1)\n",
        "temp = temp.fit_transform(xn_test)"
      ],
      "execution_count": null,
      "outputs": []
    },
    {
      "cell_type": "code",
      "metadata": {
        "id": "O_Pd-bAw-X8H",
        "colab_type": "code",
        "colab": {
          "base_uri": "https://localhost:8080/",
          "height": 122
        },
        "outputId": "000064fd-96c5-4fe7-8449-fa550dfdaf90"
      },
      "source": [
        "r_reg.fit(xn_train, yn_train)\n",
        "l_reg.fit(xn_train, yn_train)\n",
        "d_reg.fit(xn_train, yn_train)\n",
        "s_reg.fit(xn_train, yn_train)\n",
        "p_reg.fit(x_pol, yn_train)"
      ],
      "execution_count": null,
      "outputs": [
        {
          "output_type": "stream",
          "text": [
            "/usr/local/lib/python3.6/dist-packages/ipykernel_launcher.py:1: DataConversionWarning: A column-vector y was passed when a 1d array was expected. Please change the shape of y to (n_samples,), for example using ravel().\n",
            "  \"\"\"Entry point for launching an IPython kernel.\n",
            "/usr/local/lib/python3.6/dist-packages/sklearn/utils/validation.py:760: DataConversionWarning: A column-vector y was passed when a 1d array was expected. Please change the shape of y to (n_samples, ), for example using ravel().\n",
            "  y = column_or_1d(y, warn=True)\n"
          ],
          "name": "stderr"
        },
        {
          "output_type": "execute_result",
          "data": {
            "text/plain": [
              "LinearRegression(copy_X=True, fit_intercept=True, n_jobs=None, normalize=False)"
            ]
          },
          "metadata": {
            "tags": []
          },
          "execution_count": 75
        }
      ]
    },
    {
      "cell_type": "code",
      "metadata": {
        "id": "U3TNUx6s-gJg",
        "colab_type": "code",
        "colab": {}
      },
      "source": [
        "r_pred = r_reg.predict(xn_test)\n",
        "l_pred = l_reg.predict(xn_test)\n",
        "d_pred = d_reg.predict(xn_test)\n",
        "s_pred = s_reg.predict(xn_test)\n",
        "p_pred = p_reg.predict(temp)"
      ],
      "execution_count": null,
      "outputs": []
    },
    {
      "cell_type": "markdown",
      "metadata": {
        "id": "zVxWTZoM8X_S",
        "colab_type": "text"
      },
      "source": [
        "#Result"
      ]
    },
    {
      "cell_type": "code",
      "metadata": {
        "id": "8LEhn407_U6L",
        "colab_type": "code",
        "colab": {}
      },
      "source": [
        "\n",
        "from sklearn.metrics import r2_score"
      ],
      "execution_count": null,
      "outputs": []
    },
    {
      "cell_type": "code",
      "metadata": {
        "id": "1sZwzfREG3D0",
        "colab_type": "code",
        "colab": {}
      },
      "source": [
        "r = r2_score(yn_test, r_pred)\n",
        "l = r2_score(yn_test, l_pred)\n",
        "d = r2_score(yn_test, d_pred)\n",
        "s = r2_score(yn_test, s_pred)\n",
        "p = r2_score(yn_test, p_pred)"
      ],
      "execution_count": null,
      "outputs": []
    },
    {
      "cell_type": "code",
      "metadata": {
        "id": "pO6BqtCtHHbD",
        "colab_type": "code",
        "colab": {
          "base_uri": "https://localhost:8080/",
          "height": 34
        },
        "outputId": "bd16bba3-3ecd-4bde-f222-bb06d56fc0c3"
      },
      "source": [
        "print(r, l, d, s, p)"
      ],
      "execution_count": null,
      "outputs": [
        {
          "output_type": "stream",
          "text": [
            "0.5271456980286224 0.3783667654688474 0.17696419334444502 0.403457531475073 0.37836676546884773\n"
          ],
          "name": "stdout"
        }
      ]
    },
    {
      "cell_type": "code",
      "metadata": {
        "id": "EaKK5RdCHKEz",
        "colab_type": "code",
        "colab": {}
      },
      "source": [
        "cond = [(data['quality']>=7.5), (data['quality']<7.5)]\n",
        "gb = ['Good', 'Bad']\n",
        "data['review'] = np.select(cond, gb)"
      ],
      "execution_count": null,
      "outputs": []
    },
    {
      "cell_type": "code",
      "metadata": {
        "id": "1FC3fge4LZnD",
        "colab_type": "code",
        "colab": {
          "base_uri": "https://localhost:8080/",
          "height": 453
        },
        "outputId": "4670ee4a-e710-420c-a302-d83aca40ca28"
      },
      "source": [
        "data"
      ],
      "execution_count": null,
      "outputs": [
        {
          "output_type": "execute_result",
          "data": {
            "text/html": [
              "<div>\n",
              "<style scoped>\n",
              "    .dataframe tbody tr th:only-of-type {\n",
              "        vertical-align: middle;\n",
              "    }\n",
              "\n",
              "    .dataframe tbody tr th {\n",
              "        vertical-align: top;\n",
              "    }\n",
              "\n",
              "    .dataframe thead th {\n",
              "        text-align: right;\n",
              "    }\n",
              "</style>\n",
              "<table border=\"1\" class=\"dataframe\">\n",
              "  <thead>\n",
              "    <tr style=\"text-align: right;\">\n",
              "      <th></th>\n",
              "      <th>fixed acidity</th>\n",
              "      <th>volatile acidity</th>\n",
              "      <th>citric acid</th>\n",
              "      <th>residual sugar</th>\n",
              "      <th>chlorides</th>\n",
              "      <th>free sulfur dioxide</th>\n",
              "      <th>total sulfur dioxide</th>\n",
              "      <th>density</th>\n",
              "      <th>pH</th>\n",
              "      <th>sulphates</th>\n",
              "      <th>alcohol</th>\n",
              "      <th>quality</th>\n",
              "      <th>review</th>\n",
              "    </tr>\n",
              "  </thead>\n",
              "  <tbody>\n",
              "    <tr>\n",
              "      <th>0</th>\n",
              "      <td>7.4</td>\n",
              "      <td>0.700</td>\n",
              "      <td>0.00</td>\n",
              "      <td>1.9</td>\n",
              "      <td>0.076</td>\n",
              "      <td>11.0</td>\n",
              "      <td>34.0</td>\n",
              "      <td>0.99780</td>\n",
              "      <td>3.51</td>\n",
              "      <td>0.56</td>\n",
              "      <td>9.4</td>\n",
              "      <td>5</td>\n",
              "      <td>Bad</td>\n",
              "    </tr>\n",
              "    <tr>\n",
              "      <th>1</th>\n",
              "      <td>7.8</td>\n",
              "      <td>0.880</td>\n",
              "      <td>0.00</td>\n",
              "      <td>2.6</td>\n",
              "      <td>0.098</td>\n",
              "      <td>25.0</td>\n",
              "      <td>67.0</td>\n",
              "      <td>0.99680</td>\n",
              "      <td>3.20</td>\n",
              "      <td>0.68</td>\n",
              "      <td>9.8</td>\n",
              "      <td>5</td>\n",
              "      <td>Bad</td>\n",
              "    </tr>\n",
              "    <tr>\n",
              "      <th>2</th>\n",
              "      <td>7.8</td>\n",
              "      <td>0.760</td>\n",
              "      <td>0.04</td>\n",
              "      <td>2.3</td>\n",
              "      <td>0.092</td>\n",
              "      <td>15.0</td>\n",
              "      <td>54.0</td>\n",
              "      <td>0.99700</td>\n",
              "      <td>3.26</td>\n",
              "      <td>0.65</td>\n",
              "      <td>9.8</td>\n",
              "      <td>5</td>\n",
              "      <td>Bad</td>\n",
              "    </tr>\n",
              "    <tr>\n",
              "      <th>3</th>\n",
              "      <td>11.2</td>\n",
              "      <td>0.280</td>\n",
              "      <td>0.56</td>\n",
              "      <td>1.9</td>\n",
              "      <td>0.075</td>\n",
              "      <td>17.0</td>\n",
              "      <td>60.0</td>\n",
              "      <td>0.99800</td>\n",
              "      <td>3.16</td>\n",
              "      <td>0.58</td>\n",
              "      <td>9.8</td>\n",
              "      <td>6</td>\n",
              "      <td>Bad</td>\n",
              "    </tr>\n",
              "    <tr>\n",
              "      <th>4</th>\n",
              "      <td>7.4</td>\n",
              "      <td>0.700</td>\n",
              "      <td>0.00</td>\n",
              "      <td>1.9</td>\n",
              "      <td>0.076</td>\n",
              "      <td>11.0</td>\n",
              "      <td>34.0</td>\n",
              "      <td>0.99780</td>\n",
              "      <td>3.51</td>\n",
              "      <td>0.56</td>\n",
              "      <td>9.4</td>\n",
              "      <td>5</td>\n",
              "      <td>Bad</td>\n",
              "    </tr>\n",
              "    <tr>\n",
              "      <th>...</th>\n",
              "      <td>...</td>\n",
              "      <td>...</td>\n",
              "      <td>...</td>\n",
              "      <td>...</td>\n",
              "      <td>...</td>\n",
              "      <td>...</td>\n",
              "      <td>...</td>\n",
              "      <td>...</td>\n",
              "      <td>...</td>\n",
              "      <td>...</td>\n",
              "      <td>...</td>\n",
              "      <td>...</td>\n",
              "      <td>...</td>\n",
              "    </tr>\n",
              "    <tr>\n",
              "      <th>1594</th>\n",
              "      <td>6.2</td>\n",
              "      <td>0.600</td>\n",
              "      <td>0.08</td>\n",
              "      <td>2.0</td>\n",
              "      <td>0.090</td>\n",
              "      <td>32.0</td>\n",
              "      <td>44.0</td>\n",
              "      <td>0.99490</td>\n",
              "      <td>3.45</td>\n",
              "      <td>0.58</td>\n",
              "      <td>10.5</td>\n",
              "      <td>5</td>\n",
              "      <td>Bad</td>\n",
              "    </tr>\n",
              "    <tr>\n",
              "      <th>1595</th>\n",
              "      <td>5.9</td>\n",
              "      <td>0.550</td>\n",
              "      <td>0.10</td>\n",
              "      <td>2.2</td>\n",
              "      <td>0.062</td>\n",
              "      <td>39.0</td>\n",
              "      <td>51.0</td>\n",
              "      <td>0.99512</td>\n",
              "      <td>3.52</td>\n",
              "      <td>0.76</td>\n",
              "      <td>11.2</td>\n",
              "      <td>6</td>\n",
              "      <td>Bad</td>\n",
              "    </tr>\n",
              "    <tr>\n",
              "      <th>1596</th>\n",
              "      <td>6.3</td>\n",
              "      <td>0.510</td>\n",
              "      <td>0.13</td>\n",
              "      <td>2.3</td>\n",
              "      <td>0.076</td>\n",
              "      <td>29.0</td>\n",
              "      <td>40.0</td>\n",
              "      <td>0.99574</td>\n",
              "      <td>3.42</td>\n",
              "      <td>0.75</td>\n",
              "      <td>11.0</td>\n",
              "      <td>6</td>\n",
              "      <td>Bad</td>\n",
              "    </tr>\n",
              "    <tr>\n",
              "      <th>1597</th>\n",
              "      <td>5.9</td>\n",
              "      <td>0.645</td>\n",
              "      <td>0.12</td>\n",
              "      <td>2.0</td>\n",
              "      <td>0.075</td>\n",
              "      <td>32.0</td>\n",
              "      <td>44.0</td>\n",
              "      <td>0.99547</td>\n",
              "      <td>3.57</td>\n",
              "      <td>0.71</td>\n",
              "      <td>10.2</td>\n",
              "      <td>5</td>\n",
              "      <td>Bad</td>\n",
              "    </tr>\n",
              "    <tr>\n",
              "      <th>1598</th>\n",
              "      <td>6.0</td>\n",
              "      <td>0.310</td>\n",
              "      <td>0.47</td>\n",
              "      <td>3.6</td>\n",
              "      <td>0.067</td>\n",
              "      <td>18.0</td>\n",
              "      <td>42.0</td>\n",
              "      <td>0.99549</td>\n",
              "      <td>3.39</td>\n",
              "      <td>0.66</td>\n",
              "      <td>11.0</td>\n",
              "      <td>6</td>\n",
              "      <td>Bad</td>\n",
              "    </tr>\n",
              "  </tbody>\n",
              "</table>\n",
              "<p>1599 rows × 13 columns</p>\n",
              "</div>"
            ],
            "text/plain": [
              "      fixed acidity  volatile acidity  citric acid  ...  alcohol  quality  review\n",
              "0               7.4             0.700         0.00  ...      9.4        5     Bad\n",
              "1               7.8             0.880         0.00  ...      9.8        5     Bad\n",
              "2               7.8             0.760         0.04  ...      9.8        5     Bad\n",
              "3              11.2             0.280         0.56  ...      9.8        6     Bad\n",
              "4               7.4             0.700         0.00  ...      9.4        5     Bad\n",
              "...             ...               ...          ...  ...      ...      ...     ...\n",
              "1594            6.2             0.600         0.08  ...     10.5        5     Bad\n",
              "1595            5.9             0.550         0.10  ...     11.2        6     Bad\n",
              "1596            6.3             0.510         0.13  ...     11.0        6     Bad\n",
              "1597            5.9             0.645         0.12  ...     10.2        5     Bad\n",
              "1598            6.0             0.310         0.47  ...     11.0        6     Bad\n",
              "\n",
              "[1599 rows x 13 columns]"
            ]
          },
          "metadata": {
            "tags": []
          },
          "execution_count": 81
        }
      ]
    },
    {
      "cell_type": "code",
      "metadata": {
        "id": "l3GjMohBbS4w",
        "colab_type": "code",
        "colab": {
          "base_uri": "https://localhost:8080/",
          "height": 34
        },
        "outputId": "0b4eb5d4-2a79-4235-b5b0-2eeae5c0d8c1"
      },
      "source": [
        "data['review'].unique()"
      ],
      "execution_count": null,
      "outputs": [
        {
          "output_type": "execute_result",
          "data": {
            "text/plain": [
              "array(['Bad', 'Good'], dtype=object)"
            ]
          },
          "metadata": {
            "tags": []
          },
          "execution_count": 82
        }
      ]
    },
    {
      "cell_type": "code",
      "metadata": {
        "id": "AEja2uRNAspK",
        "colab_type": "code",
        "colab": {
          "base_uri": "https://localhost:8080/",
          "height": 1000
        },
        "outputId": "75d2af6e-42d7-46a1-af4a-1b75ef358e6d"
      },
      "source": [
        "data.iloc[400:450,:]"
      ],
      "execution_count": null,
      "outputs": [
        {
          "output_type": "execute_result",
          "data": {
            "text/html": [
              "<div>\n",
              "<style scoped>\n",
              "    .dataframe tbody tr th:only-of-type {\n",
              "        vertical-align: middle;\n",
              "    }\n",
              "\n",
              "    .dataframe tbody tr th {\n",
              "        vertical-align: top;\n",
              "    }\n",
              "\n",
              "    .dataframe thead th {\n",
              "        text-align: right;\n",
              "    }\n",
              "</style>\n",
              "<table border=\"1\" class=\"dataframe\">\n",
              "  <thead>\n",
              "    <tr style=\"text-align: right;\">\n",
              "      <th></th>\n",
              "      <th>fixed acidity</th>\n",
              "      <th>volatile acidity</th>\n",
              "      <th>citric acid</th>\n",
              "      <th>residual sugar</th>\n",
              "      <th>chlorides</th>\n",
              "      <th>free sulfur dioxide</th>\n",
              "      <th>total sulfur dioxide</th>\n",
              "      <th>density</th>\n",
              "      <th>pH</th>\n",
              "      <th>sulphates</th>\n",
              "      <th>alcohol</th>\n",
              "      <th>quality</th>\n",
              "      <th>review</th>\n",
              "    </tr>\n",
              "  </thead>\n",
              "  <tbody>\n",
              "    <tr>\n",
              "      <th>400</th>\n",
              "      <td>6.6</td>\n",
              "      <td>0.735</td>\n",
              "      <td>0.02</td>\n",
              "      <td>7.90</td>\n",
              "      <td>0.122</td>\n",
              "      <td>68.0</td>\n",
              "      <td>124.0</td>\n",
              "      <td>0.9994</td>\n",
              "      <td>3.47</td>\n",
              "      <td>0.53</td>\n",
              "      <td>9.9</td>\n",
              "      <td>5</td>\n",
              "      <td>Bad</td>\n",
              "    </tr>\n",
              "    <tr>\n",
              "      <th>401</th>\n",
              "      <td>7.7</td>\n",
              "      <td>0.260</td>\n",
              "      <td>0.30</td>\n",
              "      <td>1.70</td>\n",
              "      <td>0.059</td>\n",
              "      <td>20.0</td>\n",
              "      <td>38.0</td>\n",
              "      <td>0.9949</td>\n",
              "      <td>3.29</td>\n",
              "      <td>0.47</td>\n",
              "      <td>10.8</td>\n",
              "      <td>6</td>\n",
              "      <td>Bad</td>\n",
              "    </tr>\n",
              "    <tr>\n",
              "      <th>402</th>\n",
              "      <td>12.2</td>\n",
              "      <td>0.480</td>\n",
              "      <td>0.54</td>\n",
              "      <td>2.60</td>\n",
              "      <td>0.085</td>\n",
              "      <td>19.0</td>\n",
              "      <td>64.0</td>\n",
              "      <td>1.0000</td>\n",
              "      <td>3.10</td>\n",
              "      <td>0.61</td>\n",
              "      <td>10.5</td>\n",
              "      <td>6</td>\n",
              "      <td>Bad</td>\n",
              "    </tr>\n",
              "    <tr>\n",
              "      <th>403</th>\n",
              "      <td>11.4</td>\n",
              "      <td>0.600</td>\n",
              "      <td>0.49</td>\n",
              "      <td>2.70</td>\n",
              "      <td>0.085</td>\n",
              "      <td>10.0</td>\n",
              "      <td>41.0</td>\n",
              "      <td>0.9994</td>\n",
              "      <td>3.15</td>\n",
              "      <td>0.63</td>\n",
              "      <td>10.5</td>\n",
              "      <td>6</td>\n",
              "      <td>Bad</td>\n",
              "    </tr>\n",
              "    <tr>\n",
              "      <th>404</th>\n",
              "      <td>7.7</td>\n",
              "      <td>0.690</td>\n",
              "      <td>0.05</td>\n",
              "      <td>2.70</td>\n",
              "      <td>0.075</td>\n",
              "      <td>15.0</td>\n",
              "      <td>27.0</td>\n",
              "      <td>0.9974</td>\n",
              "      <td>3.26</td>\n",
              "      <td>0.61</td>\n",
              "      <td>9.1</td>\n",
              "      <td>5</td>\n",
              "      <td>Bad</td>\n",
              "    </tr>\n",
              "    <tr>\n",
              "      <th>405</th>\n",
              "      <td>8.7</td>\n",
              "      <td>0.310</td>\n",
              "      <td>0.46</td>\n",
              "      <td>1.40</td>\n",
              "      <td>0.059</td>\n",
              "      <td>11.0</td>\n",
              "      <td>25.0</td>\n",
              "      <td>0.9966</td>\n",
              "      <td>3.36</td>\n",
              "      <td>0.76</td>\n",
              "      <td>10.1</td>\n",
              "      <td>6</td>\n",
              "      <td>Bad</td>\n",
              "    </tr>\n",
              "    <tr>\n",
              "      <th>406</th>\n",
              "      <td>9.8</td>\n",
              "      <td>0.440</td>\n",
              "      <td>0.47</td>\n",
              "      <td>2.50</td>\n",
              "      <td>0.063</td>\n",
              "      <td>9.0</td>\n",
              "      <td>28.0</td>\n",
              "      <td>0.9981</td>\n",
              "      <td>3.24</td>\n",
              "      <td>0.65</td>\n",
              "      <td>10.8</td>\n",
              "      <td>6</td>\n",
              "      <td>Bad</td>\n",
              "    </tr>\n",
              "    <tr>\n",
              "      <th>407</th>\n",
              "      <td>12.0</td>\n",
              "      <td>0.390</td>\n",
              "      <td>0.66</td>\n",
              "      <td>3.00</td>\n",
              "      <td>0.093</td>\n",
              "      <td>12.0</td>\n",
              "      <td>30.0</td>\n",
              "      <td>0.9996</td>\n",
              "      <td>3.18</td>\n",
              "      <td>0.63</td>\n",
              "      <td>10.8</td>\n",
              "      <td>7</td>\n",
              "      <td>Bad</td>\n",
              "    </tr>\n",
              "    <tr>\n",
              "      <th>408</th>\n",
              "      <td>10.4</td>\n",
              "      <td>0.340</td>\n",
              "      <td>0.58</td>\n",
              "      <td>3.70</td>\n",
              "      <td>0.174</td>\n",
              "      <td>6.0</td>\n",
              "      <td>16.0</td>\n",
              "      <td>0.9970</td>\n",
              "      <td>3.19</td>\n",
              "      <td>0.70</td>\n",
              "      <td>11.3</td>\n",
              "      <td>6</td>\n",
              "      <td>Bad</td>\n",
              "    </tr>\n",
              "    <tr>\n",
              "      <th>409</th>\n",
              "      <td>12.5</td>\n",
              "      <td>0.460</td>\n",
              "      <td>0.49</td>\n",
              "      <td>4.50</td>\n",
              "      <td>0.070</td>\n",
              "      <td>26.0</td>\n",
              "      <td>49.0</td>\n",
              "      <td>0.9981</td>\n",
              "      <td>3.05</td>\n",
              "      <td>0.57</td>\n",
              "      <td>9.6</td>\n",
              "      <td>4</td>\n",
              "      <td>Bad</td>\n",
              "    </tr>\n",
              "    <tr>\n",
              "      <th>410</th>\n",
              "      <td>9.0</td>\n",
              "      <td>0.430</td>\n",
              "      <td>0.34</td>\n",
              "      <td>2.50</td>\n",
              "      <td>0.080</td>\n",
              "      <td>26.0</td>\n",
              "      <td>86.0</td>\n",
              "      <td>0.9987</td>\n",
              "      <td>3.38</td>\n",
              "      <td>0.62</td>\n",
              "      <td>9.5</td>\n",
              "      <td>6</td>\n",
              "      <td>Bad</td>\n",
              "    </tr>\n",
              "    <tr>\n",
              "      <th>411</th>\n",
              "      <td>9.1</td>\n",
              "      <td>0.450</td>\n",
              "      <td>0.35</td>\n",
              "      <td>2.40</td>\n",
              "      <td>0.080</td>\n",
              "      <td>23.0</td>\n",
              "      <td>78.0</td>\n",
              "      <td>0.9987</td>\n",
              "      <td>3.38</td>\n",
              "      <td>0.62</td>\n",
              "      <td>9.5</td>\n",
              "      <td>5</td>\n",
              "      <td>Bad</td>\n",
              "    </tr>\n",
              "    <tr>\n",
              "      <th>412</th>\n",
              "      <td>7.1</td>\n",
              "      <td>0.735</td>\n",
              "      <td>0.16</td>\n",
              "      <td>1.90</td>\n",
              "      <td>0.100</td>\n",
              "      <td>15.0</td>\n",
              "      <td>77.0</td>\n",
              "      <td>0.9966</td>\n",
              "      <td>3.27</td>\n",
              "      <td>0.64</td>\n",
              "      <td>9.3</td>\n",
              "      <td>5</td>\n",
              "      <td>Bad</td>\n",
              "    </tr>\n",
              "    <tr>\n",
              "      <th>413</th>\n",
              "      <td>9.9</td>\n",
              "      <td>0.400</td>\n",
              "      <td>0.53</td>\n",
              "      <td>6.70</td>\n",
              "      <td>0.097</td>\n",
              "      <td>6.0</td>\n",
              "      <td>19.0</td>\n",
              "      <td>0.9986</td>\n",
              "      <td>3.27</td>\n",
              "      <td>0.82</td>\n",
              "      <td>11.7</td>\n",
              "      <td>7</td>\n",
              "      <td>Bad</td>\n",
              "    </tr>\n",
              "    <tr>\n",
              "      <th>414</th>\n",
              "      <td>8.8</td>\n",
              "      <td>0.520</td>\n",
              "      <td>0.34</td>\n",
              "      <td>2.70</td>\n",
              "      <td>0.087</td>\n",
              "      <td>24.0</td>\n",
              "      <td>122.0</td>\n",
              "      <td>0.9982</td>\n",
              "      <td>3.26</td>\n",
              "      <td>0.61</td>\n",
              "      <td>9.5</td>\n",
              "      <td>5</td>\n",
              "      <td>Bad</td>\n",
              "    </tr>\n",
              "    <tr>\n",
              "      <th>415</th>\n",
              "      <td>8.6</td>\n",
              "      <td>0.725</td>\n",
              "      <td>0.24</td>\n",
              "      <td>6.60</td>\n",
              "      <td>0.117</td>\n",
              "      <td>31.0</td>\n",
              "      <td>134.0</td>\n",
              "      <td>1.0014</td>\n",
              "      <td>3.32</td>\n",
              "      <td>1.07</td>\n",
              "      <td>9.3</td>\n",
              "      <td>5</td>\n",
              "      <td>Bad</td>\n",
              "    </tr>\n",
              "    <tr>\n",
              "      <th>416</th>\n",
              "      <td>10.6</td>\n",
              "      <td>0.480</td>\n",
              "      <td>0.64</td>\n",
              "      <td>2.20</td>\n",
              "      <td>0.111</td>\n",
              "      <td>6.0</td>\n",
              "      <td>20.0</td>\n",
              "      <td>0.9970</td>\n",
              "      <td>3.26</td>\n",
              "      <td>0.66</td>\n",
              "      <td>11.7</td>\n",
              "      <td>6</td>\n",
              "      <td>Bad</td>\n",
              "    </tr>\n",
              "    <tr>\n",
              "      <th>417</th>\n",
              "      <td>7.0</td>\n",
              "      <td>0.580</td>\n",
              "      <td>0.12</td>\n",
              "      <td>1.90</td>\n",
              "      <td>0.091</td>\n",
              "      <td>34.0</td>\n",
              "      <td>124.0</td>\n",
              "      <td>0.9956</td>\n",
              "      <td>3.44</td>\n",
              "      <td>0.48</td>\n",
              "      <td>10.5</td>\n",
              "      <td>5</td>\n",
              "      <td>Bad</td>\n",
              "    </tr>\n",
              "    <tr>\n",
              "      <th>418</th>\n",
              "      <td>11.9</td>\n",
              "      <td>0.380</td>\n",
              "      <td>0.51</td>\n",
              "      <td>2.00</td>\n",
              "      <td>0.121</td>\n",
              "      <td>7.0</td>\n",
              "      <td>20.0</td>\n",
              "      <td>0.9996</td>\n",
              "      <td>3.24</td>\n",
              "      <td>0.76</td>\n",
              "      <td>10.4</td>\n",
              "      <td>6</td>\n",
              "      <td>Bad</td>\n",
              "    </tr>\n",
              "    <tr>\n",
              "      <th>419</th>\n",
              "      <td>6.8</td>\n",
              "      <td>0.770</td>\n",
              "      <td>0.00</td>\n",
              "      <td>1.80</td>\n",
              "      <td>0.066</td>\n",
              "      <td>34.0</td>\n",
              "      <td>52.0</td>\n",
              "      <td>0.9976</td>\n",
              "      <td>3.62</td>\n",
              "      <td>0.68</td>\n",
              "      <td>9.9</td>\n",
              "      <td>5</td>\n",
              "      <td>Bad</td>\n",
              "    </tr>\n",
              "    <tr>\n",
              "      <th>420</th>\n",
              "      <td>9.5</td>\n",
              "      <td>0.560</td>\n",
              "      <td>0.33</td>\n",
              "      <td>2.40</td>\n",
              "      <td>0.089</td>\n",
              "      <td>35.0</td>\n",
              "      <td>67.0</td>\n",
              "      <td>0.9972</td>\n",
              "      <td>3.28</td>\n",
              "      <td>0.73</td>\n",
              "      <td>11.8</td>\n",
              "      <td>7</td>\n",
              "      <td>Bad</td>\n",
              "    </tr>\n",
              "    <tr>\n",
              "      <th>421</th>\n",
              "      <td>6.6</td>\n",
              "      <td>0.840</td>\n",
              "      <td>0.03</td>\n",
              "      <td>2.30</td>\n",
              "      <td>0.059</td>\n",
              "      <td>32.0</td>\n",
              "      <td>48.0</td>\n",
              "      <td>0.9952</td>\n",
              "      <td>3.52</td>\n",
              "      <td>0.56</td>\n",
              "      <td>12.3</td>\n",
              "      <td>7</td>\n",
              "      <td>Bad</td>\n",
              "    </tr>\n",
              "    <tr>\n",
              "      <th>422</th>\n",
              "      <td>7.7</td>\n",
              "      <td>0.960</td>\n",
              "      <td>0.20</td>\n",
              "      <td>2.00</td>\n",
              "      <td>0.047</td>\n",
              "      <td>15.0</td>\n",
              "      <td>60.0</td>\n",
              "      <td>0.9955</td>\n",
              "      <td>3.36</td>\n",
              "      <td>0.44</td>\n",
              "      <td>10.9</td>\n",
              "      <td>5</td>\n",
              "      <td>Bad</td>\n",
              "    </tr>\n",
              "    <tr>\n",
              "      <th>423</th>\n",
              "      <td>10.5</td>\n",
              "      <td>0.240</td>\n",
              "      <td>0.47</td>\n",
              "      <td>2.10</td>\n",
              "      <td>0.066</td>\n",
              "      <td>6.0</td>\n",
              "      <td>24.0</td>\n",
              "      <td>0.9978</td>\n",
              "      <td>3.15</td>\n",
              "      <td>0.90</td>\n",
              "      <td>11.0</td>\n",
              "      <td>7</td>\n",
              "      <td>Bad</td>\n",
              "    </tr>\n",
              "    <tr>\n",
              "      <th>424</th>\n",
              "      <td>7.7</td>\n",
              "      <td>0.960</td>\n",
              "      <td>0.20</td>\n",
              "      <td>2.00</td>\n",
              "      <td>0.047</td>\n",
              "      <td>15.0</td>\n",
              "      <td>60.0</td>\n",
              "      <td>0.9955</td>\n",
              "      <td>3.36</td>\n",
              "      <td>0.44</td>\n",
              "      <td>10.9</td>\n",
              "      <td>5</td>\n",
              "      <td>Bad</td>\n",
              "    </tr>\n",
              "    <tr>\n",
              "      <th>425</th>\n",
              "      <td>6.6</td>\n",
              "      <td>0.840</td>\n",
              "      <td>0.03</td>\n",
              "      <td>2.30</td>\n",
              "      <td>0.059</td>\n",
              "      <td>32.0</td>\n",
              "      <td>48.0</td>\n",
              "      <td>0.9952</td>\n",
              "      <td>3.52</td>\n",
              "      <td>0.56</td>\n",
              "      <td>12.3</td>\n",
              "      <td>7</td>\n",
              "      <td>Bad</td>\n",
              "    </tr>\n",
              "    <tr>\n",
              "      <th>426</th>\n",
              "      <td>6.4</td>\n",
              "      <td>0.670</td>\n",
              "      <td>0.08</td>\n",
              "      <td>2.10</td>\n",
              "      <td>0.045</td>\n",
              "      <td>19.0</td>\n",
              "      <td>48.0</td>\n",
              "      <td>0.9949</td>\n",
              "      <td>3.49</td>\n",
              "      <td>0.49</td>\n",
              "      <td>11.4</td>\n",
              "      <td>6</td>\n",
              "      <td>Bad</td>\n",
              "    </tr>\n",
              "    <tr>\n",
              "      <th>427</th>\n",
              "      <td>9.5</td>\n",
              "      <td>0.780</td>\n",
              "      <td>0.22</td>\n",
              "      <td>1.90</td>\n",
              "      <td>0.077</td>\n",
              "      <td>6.0</td>\n",
              "      <td>32.0</td>\n",
              "      <td>0.9988</td>\n",
              "      <td>3.26</td>\n",
              "      <td>0.56</td>\n",
              "      <td>10.6</td>\n",
              "      <td>6</td>\n",
              "      <td>Bad</td>\n",
              "    </tr>\n",
              "    <tr>\n",
              "      <th>428</th>\n",
              "      <td>9.1</td>\n",
              "      <td>0.520</td>\n",
              "      <td>0.33</td>\n",
              "      <td>1.30</td>\n",
              "      <td>0.070</td>\n",
              "      <td>9.0</td>\n",
              "      <td>30.0</td>\n",
              "      <td>0.9978</td>\n",
              "      <td>3.24</td>\n",
              "      <td>0.60</td>\n",
              "      <td>9.3</td>\n",
              "      <td>5</td>\n",
              "      <td>Bad</td>\n",
              "    </tr>\n",
              "    <tr>\n",
              "      <th>429</th>\n",
              "      <td>12.8</td>\n",
              "      <td>0.840</td>\n",
              "      <td>0.63</td>\n",
              "      <td>2.40</td>\n",
              "      <td>0.088</td>\n",
              "      <td>13.0</td>\n",
              "      <td>35.0</td>\n",
              "      <td>0.9997</td>\n",
              "      <td>3.10</td>\n",
              "      <td>0.60</td>\n",
              "      <td>10.4</td>\n",
              "      <td>6</td>\n",
              "      <td>Bad</td>\n",
              "    </tr>\n",
              "    <tr>\n",
              "      <th>430</th>\n",
              "      <td>10.5</td>\n",
              "      <td>0.240</td>\n",
              "      <td>0.47</td>\n",
              "      <td>2.10</td>\n",
              "      <td>0.066</td>\n",
              "      <td>6.0</td>\n",
              "      <td>24.0</td>\n",
              "      <td>0.9978</td>\n",
              "      <td>3.15</td>\n",
              "      <td>0.90</td>\n",
              "      <td>11.0</td>\n",
              "      <td>7</td>\n",
              "      <td>Bad</td>\n",
              "    </tr>\n",
              "    <tr>\n",
              "      <th>431</th>\n",
              "      <td>7.8</td>\n",
              "      <td>0.550</td>\n",
              "      <td>0.35</td>\n",
              "      <td>2.20</td>\n",
              "      <td>0.074</td>\n",
              "      <td>21.0</td>\n",
              "      <td>66.0</td>\n",
              "      <td>0.9974</td>\n",
              "      <td>3.25</td>\n",
              "      <td>0.56</td>\n",
              "      <td>9.2</td>\n",
              "      <td>5</td>\n",
              "      <td>Bad</td>\n",
              "    </tr>\n",
              "    <tr>\n",
              "      <th>432</th>\n",
              "      <td>11.9</td>\n",
              "      <td>0.370</td>\n",
              "      <td>0.69</td>\n",
              "      <td>2.30</td>\n",
              "      <td>0.078</td>\n",
              "      <td>12.0</td>\n",
              "      <td>24.0</td>\n",
              "      <td>0.9958</td>\n",
              "      <td>3.00</td>\n",
              "      <td>0.65</td>\n",
              "      <td>12.8</td>\n",
              "      <td>6</td>\n",
              "      <td>Bad</td>\n",
              "    </tr>\n",
              "    <tr>\n",
              "      <th>433</th>\n",
              "      <td>12.3</td>\n",
              "      <td>0.390</td>\n",
              "      <td>0.63</td>\n",
              "      <td>2.30</td>\n",
              "      <td>0.091</td>\n",
              "      <td>6.0</td>\n",
              "      <td>18.0</td>\n",
              "      <td>1.0004</td>\n",
              "      <td>3.16</td>\n",
              "      <td>0.49</td>\n",
              "      <td>9.5</td>\n",
              "      <td>5</td>\n",
              "      <td>Bad</td>\n",
              "    </tr>\n",
              "    <tr>\n",
              "      <th>434</th>\n",
              "      <td>10.4</td>\n",
              "      <td>0.410</td>\n",
              "      <td>0.55</td>\n",
              "      <td>3.20</td>\n",
              "      <td>0.076</td>\n",
              "      <td>22.0</td>\n",
              "      <td>54.0</td>\n",
              "      <td>0.9996</td>\n",
              "      <td>3.15</td>\n",
              "      <td>0.89</td>\n",
              "      <td>9.9</td>\n",
              "      <td>6</td>\n",
              "      <td>Bad</td>\n",
              "    </tr>\n",
              "    <tr>\n",
              "      <th>435</th>\n",
              "      <td>12.3</td>\n",
              "      <td>0.390</td>\n",
              "      <td>0.63</td>\n",
              "      <td>2.30</td>\n",
              "      <td>0.091</td>\n",
              "      <td>6.0</td>\n",
              "      <td>18.0</td>\n",
              "      <td>1.0004</td>\n",
              "      <td>3.16</td>\n",
              "      <td>0.49</td>\n",
              "      <td>9.5</td>\n",
              "      <td>5</td>\n",
              "      <td>Bad</td>\n",
              "    </tr>\n",
              "    <tr>\n",
              "      <th>436</th>\n",
              "      <td>8.0</td>\n",
              "      <td>0.670</td>\n",
              "      <td>0.30</td>\n",
              "      <td>2.00</td>\n",
              "      <td>0.060</td>\n",
              "      <td>38.0</td>\n",
              "      <td>62.0</td>\n",
              "      <td>0.9958</td>\n",
              "      <td>3.26</td>\n",
              "      <td>0.56</td>\n",
              "      <td>10.2</td>\n",
              "      <td>6</td>\n",
              "      <td>Bad</td>\n",
              "    </tr>\n",
              "    <tr>\n",
              "      <th>437</th>\n",
              "      <td>11.1</td>\n",
              "      <td>0.450</td>\n",
              "      <td>0.73</td>\n",
              "      <td>3.20</td>\n",
              "      <td>0.066</td>\n",
              "      <td>6.0</td>\n",
              "      <td>22.0</td>\n",
              "      <td>0.9986</td>\n",
              "      <td>3.17</td>\n",
              "      <td>0.66</td>\n",
              "      <td>11.2</td>\n",
              "      <td>6</td>\n",
              "      <td>Bad</td>\n",
              "    </tr>\n",
              "    <tr>\n",
              "      <th>438</th>\n",
              "      <td>10.4</td>\n",
              "      <td>0.410</td>\n",
              "      <td>0.55</td>\n",
              "      <td>3.20</td>\n",
              "      <td>0.076</td>\n",
              "      <td>22.0</td>\n",
              "      <td>54.0</td>\n",
              "      <td>0.9996</td>\n",
              "      <td>3.15</td>\n",
              "      <td>0.89</td>\n",
              "      <td>9.9</td>\n",
              "      <td>6</td>\n",
              "      <td>Bad</td>\n",
              "    </tr>\n",
              "    <tr>\n",
              "      <th>439</th>\n",
              "      <td>7.0</td>\n",
              "      <td>0.620</td>\n",
              "      <td>0.18</td>\n",
              "      <td>1.50</td>\n",
              "      <td>0.062</td>\n",
              "      <td>7.0</td>\n",
              "      <td>50.0</td>\n",
              "      <td>0.9951</td>\n",
              "      <td>3.08</td>\n",
              "      <td>0.60</td>\n",
              "      <td>9.3</td>\n",
              "      <td>5</td>\n",
              "      <td>Bad</td>\n",
              "    </tr>\n",
              "    <tr>\n",
              "      <th>440</th>\n",
              "      <td>12.6</td>\n",
              "      <td>0.310</td>\n",
              "      <td>0.72</td>\n",
              "      <td>2.20</td>\n",
              "      <td>0.072</td>\n",
              "      <td>6.0</td>\n",
              "      <td>29.0</td>\n",
              "      <td>0.9987</td>\n",
              "      <td>2.88</td>\n",
              "      <td>0.82</td>\n",
              "      <td>9.8</td>\n",
              "      <td>8</td>\n",
              "      <td>Good</td>\n",
              "    </tr>\n",
              "    <tr>\n",
              "      <th>441</th>\n",
              "      <td>11.9</td>\n",
              "      <td>0.400</td>\n",
              "      <td>0.65</td>\n",
              "      <td>2.15</td>\n",
              "      <td>0.068</td>\n",
              "      <td>7.0</td>\n",
              "      <td>27.0</td>\n",
              "      <td>0.9988</td>\n",
              "      <td>3.06</td>\n",
              "      <td>0.68</td>\n",
              "      <td>11.3</td>\n",
              "      <td>6</td>\n",
              "      <td>Bad</td>\n",
              "    </tr>\n",
              "    <tr>\n",
              "      <th>442</th>\n",
              "      <td>15.6</td>\n",
              "      <td>0.685</td>\n",
              "      <td>0.76</td>\n",
              "      <td>3.70</td>\n",
              "      <td>0.100</td>\n",
              "      <td>6.0</td>\n",
              "      <td>43.0</td>\n",
              "      <td>1.0032</td>\n",
              "      <td>2.95</td>\n",
              "      <td>0.68</td>\n",
              "      <td>11.2</td>\n",
              "      <td>7</td>\n",
              "      <td>Bad</td>\n",
              "    </tr>\n",
              "    <tr>\n",
              "      <th>443</th>\n",
              "      <td>10.0</td>\n",
              "      <td>0.440</td>\n",
              "      <td>0.49</td>\n",
              "      <td>2.70</td>\n",
              "      <td>0.077</td>\n",
              "      <td>11.0</td>\n",
              "      <td>19.0</td>\n",
              "      <td>0.9963</td>\n",
              "      <td>3.23</td>\n",
              "      <td>0.63</td>\n",
              "      <td>11.6</td>\n",
              "      <td>7</td>\n",
              "      <td>Bad</td>\n",
              "    </tr>\n",
              "    <tr>\n",
              "      <th>444</th>\n",
              "      <td>5.3</td>\n",
              "      <td>0.570</td>\n",
              "      <td>0.01</td>\n",
              "      <td>1.70</td>\n",
              "      <td>0.054</td>\n",
              "      <td>5.0</td>\n",
              "      <td>27.0</td>\n",
              "      <td>0.9934</td>\n",
              "      <td>3.57</td>\n",
              "      <td>0.84</td>\n",
              "      <td>12.5</td>\n",
              "      <td>7</td>\n",
              "      <td>Bad</td>\n",
              "    </tr>\n",
              "    <tr>\n",
              "      <th>445</th>\n",
              "      <td>9.5</td>\n",
              "      <td>0.735</td>\n",
              "      <td>0.10</td>\n",
              "      <td>2.10</td>\n",
              "      <td>0.079</td>\n",
              "      <td>6.0</td>\n",
              "      <td>31.0</td>\n",
              "      <td>0.9986</td>\n",
              "      <td>3.23</td>\n",
              "      <td>0.56</td>\n",
              "      <td>10.1</td>\n",
              "      <td>6</td>\n",
              "      <td>Bad</td>\n",
              "    </tr>\n",
              "    <tr>\n",
              "      <th>446</th>\n",
              "      <td>12.5</td>\n",
              "      <td>0.380</td>\n",
              "      <td>0.60</td>\n",
              "      <td>2.60</td>\n",
              "      <td>0.081</td>\n",
              "      <td>31.0</td>\n",
              "      <td>72.0</td>\n",
              "      <td>0.9996</td>\n",
              "      <td>3.10</td>\n",
              "      <td>0.73</td>\n",
              "      <td>10.5</td>\n",
              "      <td>5</td>\n",
              "      <td>Bad</td>\n",
              "    </tr>\n",
              "    <tr>\n",
              "      <th>447</th>\n",
              "      <td>9.3</td>\n",
              "      <td>0.480</td>\n",
              "      <td>0.29</td>\n",
              "      <td>2.10</td>\n",
              "      <td>0.127</td>\n",
              "      <td>6.0</td>\n",
              "      <td>16.0</td>\n",
              "      <td>0.9968</td>\n",
              "      <td>3.22</td>\n",
              "      <td>0.72</td>\n",
              "      <td>11.2</td>\n",
              "      <td>5</td>\n",
              "      <td>Bad</td>\n",
              "    </tr>\n",
              "    <tr>\n",
              "      <th>448</th>\n",
              "      <td>8.6</td>\n",
              "      <td>0.530</td>\n",
              "      <td>0.22</td>\n",
              "      <td>2.00</td>\n",
              "      <td>0.100</td>\n",
              "      <td>7.0</td>\n",
              "      <td>27.0</td>\n",
              "      <td>0.9967</td>\n",
              "      <td>3.20</td>\n",
              "      <td>0.56</td>\n",
              "      <td>10.2</td>\n",
              "      <td>6</td>\n",
              "      <td>Bad</td>\n",
              "    </tr>\n",
              "    <tr>\n",
              "      <th>449</th>\n",
              "      <td>11.9</td>\n",
              "      <td>0.390</td>\n",
              "      <td>0.69</td>\n",
              "      <td>2.80</td>\n",
              "      <td>0.095</td>\n",
              "      <td>17.0</td>\n",
              "      <td>35.0</td>\n",
              "      <td>0.9994</td>\n",
              "      <td>3.10</td>\n",
              "      <td>0.61</td>\n",
              "      <td>10.8</td>\n",
              "      <td>6</td>\n",
              "      <td>Bad</td>\n",
              "    </tr>\n",
              "  </tbody>\n",
              "</table>\n",
              "</div>"
            ],
            "text/plain": [
              "     fixed acidity  volatile acidity  citric acid  ...  alcohol  quality  review\n",
              "400            6.6             0.735         0.02  ...      9.9        5     Bad\n",
              "401            7.7             0.260         0.30  ...     10.8        6     Bad\n",
              "402           12.2             0.480         0.54  ...     10.5        6     Bad\n",
              "403           11.4             0.600         0.49  ...     10.5        6     Bad\n",
              "404            7.7             0.690         0.05  ...      9.1        5     Bad\n",
              "405            8.7             0.310         0.46  ...     10.1        6     Bad\n",
              "406            9.8             0.440         0.47  ...     10.8        6     Bad\n",
              "407           12.0             0.390         0.66  ...     10.8        7     Bad\n",
              "408           10.4             0.340         0.58  ...     11.3        6     Bad\n",
              "409           12.5             0.460         0.49  ...      9.6        4     Bad\n",
              "410            9.0             0.430         0.34  ...      9.5        6     Bad\n",
              "411            9.1             0.450         0.35  ...      9.5        5     Bad\n",
              "412            7.1             0.735         0.16  ...      9.3        5     Bad\n",
              "413            9.9             0.400         0.53  ...     11.7        7     Bad\n",
              "414            8.8             0.520         0.34  ...      9.5        5     Bad\n",
              "415            8.6             0.725         0.24  ...      9.3        5     Bad\n",
              "416           10.6             0.480         0.64  ...     11.7        6     Bad\n",
              "417            7.0             0.580         0.12  ...     10.5        5     Bad\n",
              "418           11.9             0.380         0.51  ...     10.4        6     Bad\n",
              "419            6.8             0.770         0.00  ...      9.9        5     Bad\n",
              "420            9.5             0.560         0.33  ...     11.8        7     Bad\n",
              "421            6.6             0.840         0.03  ...     12.3        7     Bad\n",
              "422            7.7             0.960         0.20  ...     10.9        5     Bad\n",
              "423           10.5             0.240         0.47  ...     11.0        7     Bad\n",
              "424            7.7             0.960         0.20  ...     10.9        5     Bad\n",
              "425            6.6             0.840         0.03  ...     12.3        7     Bad\n",
              "426            6.4             0.670         0.08  ...     11.4        6     Bad\n",
              "427            9.5             0.780         0.22  ...     10.6        6     Bad\n",
              "428            9.1             0.520         0.33  ...      9.3        5     Bad\n",
              "429           12.8             0.840         0.63  ...     10.4        6     Bad\n",
              "430           10.5             0.240         0.47  ...     11.0        7     Bad\n",
              "431            7.8             0.550         0.35  ...      9.2        5     Bad\n",
              "432           11.9             0.370         0.69  ...     12.8        6     Bad\n",
              "433           12.3             0.390         0.63  ...      9.5        5     Bad\n",
              "434           10.4             0.410         0.55  ...      9.9        6     Bad\n",
              "435           12.3             0.390         0.63  ...      9.5        5     Bad\n",
              "436            8.0             0.670         0.30  ...     10.2        6     Bad\n",
              "437           11.1             0.450         0.73  ...     11.2        6     Bad\n",
              "438           10.4             0.410         0.55  ...      9.9        6     Bad\n",
              "439            7.0             0.620         0.18  ...      9.3        5     Bad\n",
              "440           12.6             0.310         0.72  ...      9.8        8    Good\n",
              "441           11.9             0.400         0.65  ...     11.3        6     Bad\n",
              "442           15.6             0.685         0.76  ...     11.2        7     Bad\n",
              "443           10.0             0.440         0.49  ...     11.6        7     Bad\n",
              "444            5.3             0.570         0.01  ...     12.5        7     Bad\n",
              "445            9.5             0.735         0.10  ...     10.1        6     Bad\n",
              "446           12.5             0.380         0.60  ...     10.5        5     Bad\n",
              "447            9.3             0.480         0.29  ...     11.2        5     Bad\n",
              "448            8.6             0.530         0.22  ...     10.2        6     Bad\n",
              "449           11.9             0.390         0.69  ...     10.8        6     Bad\n",
              "\n",
              "[50 rows x 13 columns]"
            ]
          },
          "metadata": {
            "tags": []
          },
          "execution_count": 83
        }
      ]
    },
    {
      "cell_type": "markdown",
      "metadata": {
        "id": "bQzvs2DW8sBL",
        "colab_type": "text"
      },
      "source": [
        "#Conclusion \n",
        "\n",
        "done by using Regression\n",
        "\n",
        "* Since RandomForest is giving more efficiency than other algorithm\n",
        "* We can consider RandomForest as the best algorithm for this dataset\n",
        "\n"
      ]
    },
    {
      "cell_type": "code",
      "metadata": {
        "id": "09ld19Ag9VQV",
        "colab_type": "code",
        "colab": {}
      },
      "source": [
        ""
      ],
      "execution_count": null,
      "outputs": []
    }
  ]
}